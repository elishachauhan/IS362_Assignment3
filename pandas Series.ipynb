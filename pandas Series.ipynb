{
 "cells": [
  {
   "cell_type": "markdown",
   "metadata": {},
   "source": [
    "### Bicycle Odometer Reading\n",
    "\n",
    "The odometer reading for a bicycle is similar to the odometer on a car. For a car, accumulated miles after each day is automatically showed on the dashboard. In relation to a bicycle, the reading must be done using an application or device that calculates this reading. Utilizing Python and the pandas Series object, an application can be created to calculate how many miles you rode on you bicycle each day. In order to accomplish this task, a programmer must take several steps to store a dictionary of given values and then convert these values to a Series in pandas. In this scenario, you are riding a bicycle from New York City to Key West, Florida over a course of a week. "
   ]
  },
  {
   "cell_type": "markdown",
   "metadata": {},
   "source": [
    "#### Importing pandas and data pretty printer: "
   ]
  },
  {
   "cell_type": "code",
   "execution_count": 1,
   "metadata": {
    "collapsed": true
   },
   "outputs": [],
   "source": [
    "import pandas as pd\n",
    "from pprint import pprint"
   ]
  },
  {
   "cell_type": "markdown",
   "metadata": {},
   "source": [
    "This imports the pandas library that has the Series object. The pprint library also organizes our dictionary and outputs to make it more readable with pprint."
   ]
  },
  {
   "cell_type": "markdown",
   "metadata": {},
   "source": [
    "#### Creating a dictionary and a pretty printer output: "
   ]
  },
  {
   "cell_type": "code",
   "execution_count": 2,
   "metadata": {
    "collapsed": false
   },
   "outputs": [
    {
     "name": "stdout",
     "output_type": "stream",
     "text": [
      "{'Day 1': 55,\n",
      " 'Day 2': 120,\n",
      " 'Day 3': 150,\n",
      " 'Day 4': 210,\n",
      " 'Day 5': 270,\n",
      " 'Day 6': 300,\n",
      " 'Day 7': 350}\n"
     ]
    }
   ],
   "source": [
    "odometer = {}\n",
    "odometer['Day 1'] = 55\n",
    "odometer['Day 2'] = 120\n",
    "odometer['Day 3'] = 150\n",
    "odometer['Day 4'] = 210\n",
    "odometer['Day 5'] = 270\n",
    "odometer['Day 6'] = 300\n",
    "odometer['Day 7'] = 350\n",
    "pprint (odometer)"
   ]
  },
  {
   "cell_type": "raw",
   "metadata": {},
   "source": [
    "The odometer variable stores a dictionary with curly braces and a key and value approach. In other words, each day is the key and the amount of miles accumulated is the the value for each day. The output gives the  dictionary for all the values stored for each day in curly brace form. "
   ]
  },
  {
   "cell_type": "markdown",
   "metadata": {},
   "source": [
    "#### Converting the odometer dictionary to a Series object:"
   ]
  },
  {
   "cell_type": "code",
   "execution_count": 3,
   "metadata": {
    "collapsed": false
   },
   "outputs": [
    {
     "name": "stdout",
     "output_type": "stream",
     "text": [
      "<class 'pandas.core.series.Series'>\n"
     ]
    },
    {
     "data": {
      "text/plain": [
       "Day 1     55\n",
       "Day 2    120\n",
       "Day 3    150\n",
       "Day 4    210\n",
       "Day 5    270\n",
       "Day 6    300\n",
       "Day 7    350\n",
       "dtype: int64"
      ]
     },
     "execution_count": 3,
     "metadata": {},
     "output_type": "execute_result"
    }
   ],
   "source": [
    "odometer = pd.Series(odometer)\n",
    "print (type(odometer))\n",
    "odometer"
   ]
  },
  {
   "cell_type": "markdown",
   "metadata": {},
   "source": [
    "The dictionary is essentially converted from key and value form to the important array-based object called Series. Series can store zero or more values of any data type. In this case, we are storing seven values that correspond for accumulated miles each day. The data type displayed after the output is integer, which is correct for the values in this instance. "
   ]
  },
  {
   "cell_type": "markdown",
   "metadata": {},
   "source": [
    "### Calculating miles ridden on the bicycle for each day: "
   ]
  },
  {
   "cell_type": "code",
   "execution_count": 6,
   "metadata": {
    "collapsed": false
   },
   "outputs": [
    {
     "name": "stdout",
     "output_type": "stream",
     "text": [
      "Day 1: 55 mi\n",
      "Day 2: 65 mi\n",
      "Day 3: 30 mi\n",
      "Day 4: 60 mi\n",
      "Day 5: 60 mi\n",
      "Day 6: 30 mi\n",
      "Day 7: 50 mi\n"
     ]
    }
   ],
   "source": [
    "miles_traveled = {} \n",
    "yesterdays_miles = 0\n",
    "\n",
    "for day, todays_miles in odometer.items():\n",
    "        \n",
    "    recorded_miles= todays_miles - yesterdays_miles\n",
    "\n",
    "    miles_traveled[day] = recorded_miles\n",
    "    \n",
    "    print (day + ': ' + str(recorded_miles) + ' mi')\n",
    "    \n",
    "    yesterdays_miles = todays_miles"
   ]
  },
  {
   "cell_type": "markdown",
   "metadata": {},
   "source": [
    "The for loop creates an iterator that calculates the amount of miles for each day by using a simple subtraction equation that subtracts previous accumulated miles to the current day's accumulated miles. The print statement displays this information sequentially with each day labeled and the number with the shortened form of miles. The least amount of miles ridden was on days 3 and 6 with 30 miles respectively. Meanwhile, Day 2 had the most amount of miles ridden with 65 miles. "
   ]
  },
  {
   "cell_type": "markdown",
   "metadata": {},
   "source": [
    "### Display the sum and convert to pandas Series: "
   ]
  },
  {
   "cell_type": "code",
   "execution_count": 7,
   "metadata": {
    "collapsed": false
   },
   "outputs": [
    {
     "name": "stdout",
     "output_type": "stream",
     "text": [
      "350\n",
      "Day 1    55\n",
      "Day 2    65\n",
      "Day 3    30\n",
      "Day 4    60\n",
      "Day 5    60\n",
      "Day 6    30\n",
      "Day 7    50\n",
      "dtype: int64\n"
     ]
    }
   ],
   "source": [
    "miles_traveled = pd.Series(miles_traveled)\n",
    "print(miles_traveled.sum())\n",
    "print(miles_traveled)"
   ]
  },
  {
   "cell_type": "markdown",
   "metadata": {},
   "source": [
    "As shown in Day 7 in the dictionary value stored, 350 is the sum of all miles ridden over the course of a week from New York City to Key West. As for the pandas Series, the print statement display each day and the respective miles ridden as well as the integer data type. "
   ]
  }
 ],
 "metadata": {
  "kernelspec": {
   "display_name": "Python 3",
   "language": "python",
   "name": "python3"
  },
  "language_info": {
   "codemirror_mode": {
    "name": "ipython",
    "version": 3
   },
   "file_extension": ".py",
   "mimetype": "text/x-python",
   "name": "python",
   "nbconvert_exporter": "python",
   "pygments_lexer": "ipython3",
   "version": "3.6.0"
  }
 },
 "nbformat": 4,
 "nbformat_minor": 2
}
